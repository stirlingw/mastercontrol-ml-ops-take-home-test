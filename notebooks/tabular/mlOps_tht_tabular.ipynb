{
 "cells": [
  {
   "cell_type": "markdown",
   "id": "6d8975f4",
   "metadata": {
    "pycharm": {
     "name": "#%% md\n"
    }
   },
   "source": [
    "# MasterControl MLOps Engineer Interview Sample Problem\n",
    "Welcome to MasterControl! We are glad to see you are interested in joining us! Below is a sample ML problem. Please follow the instructions below. Enjoy!\n",
    "\n",
    "## Problem Description\n",
    "We have created a dataset that is generified and anonymized that is available in the `dataset.csv` file. This notebook does some basic data exploration and trains a model to classify the data. This exercise is to take the next step and deploy the model trained in this notebook. Please build an API for it, and deploy the API as a micro-service in cloud (e.g., AWS or GCP)\n",
    "\n",
    "For MLOps engineers, notebook-code for data-exploration, model training and prediction is provided. The goal for an MLOps engineer is to take this code, productionize it, and deploy it in the cloud as a service. Specifically, the major MLOps tasks in this project include:\n",
    "\n",
    "1. Explore the given training dataset, find any boundaries, normalize the dataset as needed\n",
    "2. Productionize the model-training code\n",
    "*   build, evaluate a model using the given training dataset\n",
    "*   save the trained model\n",
    "3. Productionize the model-prediction code\n",
    "* load from the saved trained model\n",
    "* predict, evaluate using a test dataset\n",
    "4. Build an API to provide the model-prediction as a service\n",
    "* assume a dataset similar to the training dataset\n",
    "* dataOps: describe (based on your prior experience) how you would propose to handle the data coming from a cloud storage (e.g., Parquet tables on S3)\n",
    "5. Deploy the model-prediction-API as a service in cloud (e.g., AWS, or GCP)\n"
   ]
  },
  {
   "cell_type": "code",
   "execution_count": 1,
   "id": "cff02a9c",
   "metadata": {
    "pycharm": {
     "name": "#%%\n"
    }
   },
   "outputs": [],
   "source": [
    "DATASET_PATH = \"tht-sample-tabular-data.csv\""
   ]
  },
  {
   "cell_type": "code",
   "execution_count": 2,
   "id": "936a8fc6",
   "metadata": {
    "pycharm": {
     "name": "#%%\n"
    }
   },
   "outputs": [],
   "source": [
    "# %pip install pandas scikit-learn matplotlib seaborn"
   ]
  },
  {
   "cell_type": "code",
   "execution_count": 3,
   "id": "5fce524f",
   "metadata": {
    "pycharm": {
     "name": "#%%\n"
    }
   },
   "outputs": [
    {
     "data": {
      "text/html": [
       "<div>\n",
       "<style scoped>\n",
       "    .dataframe tbody tr th:only-of-type {\n",
       "        vertical-align: middle;\n",
       "    }\n",
       "\n",
       "    .dataframe tbody tr th {\n",
       "        vertical-align: top;\n",
       "    }\n",
       "\n",
       "    .dataframe thead th {\n",
       "        text-align: right;\n",
       "    }\n",
       "</style>\n",
       "<table border=\"1\" class=\"dataframe\">\n",
       "  <thead>\n",
       "    <tr style=\"text-align: right;\">\n",
       "      <th></th>\n",
       "      <th>id</th>\n",
       "      <th>label</th>\n",
       "      <th>var_1</th>\n",
       "      <th>var_2</th>\n",
       "      <th>var_3</th>\n",
       "      <th>var_4</th>\n",
       "      <th>var_5</th>\n",
       "      <th>var_6</th>\n",
       "      <th>var_7</th>\n",
       "      <th>var_8</th>\n",
       "      <th>var_9</th>\n",
       "      <th>var_10</th>\n",
       "      <th>var_11</th>\n",
       "    </tr>\n",
       "  </thead>\n",
       "  <tbody>\n",
       "    <tr>\n",
       "      <th>0</th>\n",
       "      <td>0</td>\n",
       "      <td>1</td>\n",
       "      <td>66</td>\n",
       "      <td>-13.500000</td>\n",
       "      <td>0.454545</td>\n",
       "      <td>5.181818</td>\n",
       "      <td>0.272727</td>\n",
       "      <td>1781</td>\n",
       "      <td>0.241437</td>\n",
       "      <td>10.969118</td>\n",
       "      <td>0.879281</td>\n",
       "      <td>770</td>\n",
       "      <td>5</td>\n",
       "    </tr>\n",
       "    <tr>\n",
       "      <th>1</th>\n",
       "      <td>1</td>\n",
       "      <td>1</td>\n",
       "      <td>75</td>\n",
       "      <td>26.586667</td>\n",
       "      <td>0.413333</td>\n",
       "      <td>65.000000</td>\n",
       "      <td>0.909091</td>\n",
       "      <td>152</td>\n",
       "      <td>0.822368</td>\n",
       "      <td>209.151316</td>\n",
       "      <td>0.144737</td>\n",
       "      <td>1632</td>\n",
       "      <td>3</td>\n",
       "    </tr>\n",
       "    <tr>\n",
       "      <th>2</th>\n",
       "      <td>2</td>\n",
       "      <td>0</td>\n",
       "      <td>4</td>\n",
       "      <td>-25.250000</td>\n",
       "      <td>0.250000</td>\n",
       "      <td>-25.250000</td>\n",
       "      <td>0.250000</td>\n",
       "      <td>6</td>\n",
       "      <td>0.166667</td>\n",
       "      <td>701.333333</td>\n",
       "      <td>0.833333</td>\n",
       "      <td>163</td>\n",
       "      <td>3</td>\n",
       "    </tr>\n",
       "    <tr>\n",
       "      <th>3</th>\n",
       "      <td>3</td>\n",
       "      <td>0</td>\n",
       "      <td>36</td>\n",
       "      <td>-115.472222</td>\n",
       "      <td>0.027778</td>\n",
       "      <td>-142.636364</td>\n",
       "      <td>0.000000</td>\n",
       "      <td>1803</td>\n",
       "      <td>0.210205</td>\n",
       "      <td>-7.278979</td>\n",
       "      <td>0.513034</td>\n",
       "      <td>643</td>\n",
       "      <td>8</td>\n",
       "    </tr>\n",
       "    <tr>\n",
       "      <th>4</th>\n",
       "      <td>4</td>\n",
       "      <td>0</td>\n",
       "      <td>124</td>\n",
       "      <td>319.008064</td>\n",
       "      <td>0.427419</td>\n",
       "      <td>-95.909091</td>\n",
       "      <td>0.000000</td>\n",
       "      <td>180</td>\n",
       "      <td>0.833333</td>\n",
       "      <td>120.305556</td>\n",
       "      <td>0.844444</td>\n",
       "      <td>648</td>\n",
       "      <td>1</td>\n",
       "    </tr>\n",
       "    <tr>\n",
       "      <th>...</th>\n",
       "      <td>...</td>\n",
       "      <td>...</td>\n",
       "      <td>...</td>\n",
       "      <td>...</td>\n",
       "      <td>...</td>\n",
       "      <td>...</td>\n",
       "      <td>...</td>\n",
       "      <td>...</td>\n",
       "      <td>...</td>\n",
       "      <td>...</td>\n",
       "      <td>...</td>\n",
       "      <td>...</td>\n",
       "      <td>...</td>\n",
       "    </tr>\n",
       "    <tr>\n",
       "      <th>9995</th>\n",
       "      <td>9995</td>\n",
       "      <td>0</td>\n",
       "      <td>7</td>\n",
       "      <td>4.142857</td>\n",
       "      <td>0.571429</td>\n",
       "      <td>4.142857</td>\n",
       "      <td>0.571429</td>\n",
       "      <td>1</td>\n",
       "      <td>0.000000</td>\n",
       "      <td>-27.000000</td>\n",
       "      <td>0.000000</td>\n",
       "      <td>1824</td>\n",
       "      <td>1</td>\n",
       "    </tr>\n",
       "    <tr>\n",
       "      <th>9996</th>\n",
       "      <td>9996</td>\n",
       "      <td>0</td>\n",
       "      <td>52</td>\n",
       "      <td>106.346154</td>\n",
       "      <td>0.807692</td>\n",
       "      <td>62.727273</td>\n",
       "      <td>0.545455</td>\n",
       "      <td>6</td>\n",
       "      <td>0.333333</td>\n",
       "      <td>11.000000</td>\n",
       "      <td>0.166667</td>\n",
       "      <td>1791</td>\n",
       "      <td>1</td>\n",
       "    </tr>\n",
       "    <tr>\n",
       "      <th>9997</th>\n",
       "      <td>9997</td>\n",
       "      <td>0</td>\n",
       "      <td>5</td>\n",
       "      <td>22.800000</td>\n",
       "      <td>0.200000</td>\n",
       "      <td>22.800000</td>\n",
       "      <td>0.200000</td>\n",
       "      <td>581</td>\n",
       "      <td>0.296041</td>\n",
       "      <td>-6.148021</td>\n",
       "      <td>0.339071</td>\n",
       "      <td>490</td>\n",
       "      <td>2</td>\n",
       "    </tr>\n",
       "    <tr>\n",
       "      <th>9998</th>\n",
       "      <td>9998</td>\n",
       "      <td>0</td>\n",
       "      <td>178</td>\n",
       "      <td>-25.297753</td>\n",
       "      <td>0.000000</td>\n",
       "      <td>-26.363636</td>\n",
       "      <td>0.000000</td>\n",
       "      <td>198</td>\n",
       "      <td>0.000000</td>\n",
       "      <td>-26.464646</td>\n",
       "      <td>0.191919</td>\n",
       "      <td>972</td>\n",
       "      <td>5</td>\n",
       "    </tr>\n",
       "    <tr>\n",
       "      <th>9999</th>\n",
       "      <td>9999</td>\n",
       "      <td>0</td>\n",
       "      <td>42</td>\n",
       "      <td>66.380952</td>\n",
       "      <td>0.166667</td>\n",
       "      <td>-34.909091</td>\n",
       "      <td>0.000000</td>\n",
       "      <td>1377</td>\n",
       "      <td>0.379811</td>\n",
       "      <td>157.316630</td>\n",
       "      <td>0.238199</td>\n",
       "      <td>1095</td>\n",
       "      <td>6</td>\n",
       "    </tr>\n",
       "  </tbody>\n",
       "</table>\n",
       "<p>10000 rows × 13 columns</p>\n",
       "</div>"
      ],
      "text/plain": [
       "        id  label  var_1       var_2     var_3       var_4     var_5  var_6  \\\n",
       "0        0      1     66  -13.500000  0.454545    5.181818  0.272727   1781   \n",
       "1        1      1     75   26.586667  0.413333   65.000000  0.909091    152   \n",
       "2        2      0      4  -25.250000  0.250000  -25.250000  0.250000      6   \n",
       "3        3      0     36 -115.472222  0.027778 -142.636364  0.000000   1803   \n",
       "4        4      0    124  319.008064  0.427419  -95.909091  0.000000    180   \n",
       "...    ...    ...    ...         ...       ...         ...       ...    ...   \n",
       "9995  9995      0      7    4.142857  0.571429    4.142857  0.571429      1   \n",
       "9996  9996      0     52  106.346154  0.807692   62.727273  0.545455      6   \n",
       "9997  9997      0      5   22.800000  0.200000   22.800000  0.200000    581   \n",
       "9998  9998      0    178  -25.297753  0.000000  -26.363636  0.000000    198   \n",
       "9999  9999      0     42   66.380952  0.166667  -34.909091  0.000000   1377   \n",
       "\n",
       "         var_7       var_8     var_9  var_10  var_11  \n",
       "0     0.241437   10.969118  0.879281     770       5  \n",
       "1     0.822368  209.151316  0.144737    1632       3  \n",
       "2     0.166667  701.333333  0.833333     163       3  \n",
       "3     0.210205   -7.278979  0.513034     643       8  \n",
       "4     0.833333  120.305556  0.844444     648       1  \n",
       "...        ...         ...       ...     ...     ...  \n",
       "9995  0.000000  -27.000000  0.000000    1824       1  \n",
       "9996  0.333333   11.000000  0.166667    1791       1  \n",
       "9997  0.296041   -6.148021  0.339071     490       2  \n",
       "9998  0.000000  -26.464646  0.191919     972       5  \n",
       "9999  0.379811  157.316630  0.238199    1095       6  \n",
       "\n",
       "[10000 rows x 13 columns]"
      ]
     },
     "execution_count": 3,
     "metadata": {},
     "output_type": "execute_result"
    }
   ],
   "source": [
    "import pandas as pd\n",
    "import pickle\n",
    "import sklearn\n",
    "import seaborn as sn\n",
    "import matplotlib.pyplot as plt\n",
    "\n",
    "data = pd.read_csv(\"tht-sample-tabular-data.csv\")\n",
    "data"
   ]
  },
  {
   "cell_type": "code",
   "execution_count": 4,
   "id": "ac643dbf",
   "metadata": {
    "pycharm": {
     "name": "#%%\n"
    }
   },
   "outputs": [
    {
     "data": {
      "image/png": "[encoded data removed]",
      "text/plain": [
       "<Figure size 640x480 with 12 Axes>"
      ]
     },
     "metadata": {},
     "output_type": "display_data"
    }
   ],
   "source": [
    "data = data.drop(\"id\", axis=1)\n",
    "data.hist()\n",
    "plt.show()"
   ]
  },
  {
   "cell_type": "code",
   "execution_count": 5,
   "id": "8823bfcf",
   "metadata": {
    "pycharm": {
     "name": "#%%\n"
    }
   },
   "outputs": [
    {
     "name": "stdout",
     "output_type": "stream",
     "text": [
      "1 3.2617 258 38\n"
     ]
    },
    {
     "data": {
      "image/png": "[encoded data removed]",
      "text/plain": [
       "<Figure size 640x480 with 1 Axes>"
      ]
     },
     "metadata": {},
     "output_type": "display_data"
    }
   ],
   "source": [
    "print(data[\"var_11\"].min(), data[\"var_11\"].mean(), data[\"var_11\"].max(), data[\"var_11\"].nunique())\n",
    "data[\"var_11\"].plot.hist()\n",
    "plt.show()"
   ]
  },
  {
   "cell_type": "code",
   "execution_count": 6,
   "id": "ab814057",
   "metadata": {
    "pycharm": {
     "name": "#%%\n"
    }
   },
   "outputs": [
    {
     "data": {
      "text/plain": [
       "<AxesSubplot: >"
      ]
     },
     "execution_count": 6,
     "metadata": {},
     "output_type": "execute_result"
    },
    {
     "data": {
      "image/png": "[encoded data removed]",
      "text/plain": [
       "<Figure size 640x480 with 2 Axes>"
      ]
     },
     "metadata": {},
     "output_type": "display_data"
    }
   ],
   "source": [
    "sn.heatmap(data.corr(), cmap=sn.color_palette(\"light:b\"))"
   ]
  },
  {
   "cell_type": "code",
   "execution_count": 7,
   "id": "73cafad8",
   "metadata": {
    "pycharm": {
     "name": "#%%\n"
    }
   },
   "outputs": [
    {
     "name": "stdout",
     "output_type": "stream",
     "text": [
      "Random forest:\n",
      "Accuracy: 0.8976\n",
      "F1: 0.8131386861313868\n"
     ]
    }
   ],
   "source": [
    "from sklearn import metrics\n",
    "from sklearn.ensemble import RandomForestClassifier\n",
    "from sklearn.model_selection import train_test_split\n",
    "X_train, X_test, y_train, y_test = train_test_split(data.drop([\"label\"], axis=1), data[\"label\"])\n",
    "\n",
    "rf_model = RandomForestClassifier(n_estimators=50)\n",
    "rf_model.fit(X_train, y_train)\n",
    "y_pred = rf_model.predict(X_test)\n",
    "print(\"Random forest:\")\n",
    "print(\"Accuracy:\", metrics.accuracy_score(y_test, y_pred))\n",
    "print(\"F1:\", metrics.f1_score(y_test, y_pred))"
   ]
  },
  {
   "cell_type": "code",
   "execution_count": 8,
   "id": "62e3f929",
   "metadata": {
    "pycharm": {
     "name": "#%%\n"
    }
   },
   "outputs": [
    {
     "data": {
      "text/plain": [
       "array([0.03464661, 0.05736665, 0.10632811, 0.1704079 , 0.37132532,\n",
       "       0.03368683, 0.08905094, 0.05729236, 0.03069986, 0.03304084,\n",
       "       0.01615459])"
      ]
     },
     "execution_count": 8,
     "metadata": {},
     "output_type": "execute_result"
    }
   ],
   "source": [
    "rf_model.feature_importances_"
   ]
  },
  {
   "cell_type": "code",
   "execution_count": 9,
   "id": "ab31c462",
   "metadata": {
    "pycharm": {
     "name": "#%%\n"
    }
   },
   "outputs": [],
   "source": [
    "final_model = rf_model"
   ]
  },
  {
   "cell_type": "code",
   "execution_count": 10,
   "id": "6086e4c8",
   "metadata": {
    "pycharm": {
     "name": "#%%\n"
    }
   },
   "outputs": [],
   "source": [
    "# Save the model\n",
    "with open(\"pickled_tabular_model.pkl\", \"wb\") as file:\n",
    "    pickle.dump(final_model, file)"
   ]
  },
  {
   "cell_type": "code",
   "execution_count": 11,
   "id": "fd6fc213",
   "metadata": {
    "pycharm": {
     "name": "#%%\n"
    }
   },
   "outputs": [],
   "source": [
    "# Load the saved model\n",
    "with open(\"pickled_tabular_model.pkl\", \"rb\") as file:\n",
    "    final_model = pickle.load(file)"
   ]
  },
  {
   "cell_type": "code",
   "execution_count": 12,
   "id": "480e28e5",
   "metadata": {
    "pycharm": {
     "name": "#%%\n"
    }
   },
   "outputs": [],
   "source": [
    "# Load test data\n",
    "test_data = pd.read_csv(\"tht-test-tabular-data.csv\")"
   ]
  },
  {
   "cell_type": "code",
   "execution_count": 13,
   "id": "2f28c7b3",
   "metadata": {},
   "outputs": [
    {
     "name": "stdout",
     "output_type": "stream",
     "text": [
      "     label  var_1       var_2     var_3       var_4     var_5  var_6  \\\n",
      "0        0    371  -20.981132  0.026954  -22.454545  0.000000   2467   \n",
      "1        1     11  604.818182  0.909091  604.818182  0.909091    161   \n",
      "2        0    619  -17.159935  0.067851   -5.000000  0.272727   2456   \n",
      "3        0     67  -91.432836  0.432836   50.272727  0.545455      2   \n",
      "4        1    171   61.836257  0.888889   55.454545  0.909091    309   \n",
      "..     ...    ...         ...       ...         ...       ...    ...   \n",
      "995      1     22  236.000000  0.772727  171.363636  0.727273      5   \n",
      "996      0   1255  152.659761  0.931474   27.818182  0.454545    242   \n",
      "997      1     10   28.500000  0.600000   28.500000  0.600000    128   \n",
      "998      0    265  -37.867925  0.003774  -25.727273  0.000000    402   \n",
      "999      0     20  -94.600000  0.100000  -86.181818  0.000000     55   \n",
      "\n",
      "        var_7       var_8     var_9  var_10  var_11  \n",
      "0    0.051885  -22.670045  0.304013     531       7  \n",
      "1    0.850932  444.335404  0.515528    1240       1  \n",
      "2    0.100977  -18.340391  0.099756    4616      11  \n",
      "3    0.000000  -58.500000  0.000000    2736       3  \n",
      "4    0.634304   81.022654  0.540453     894       2  \n",
      "..        ...         ...       ...     ...     ...  \n",
      "995  0.800000   34.400000  1.000000     151       1  \n",
      "996  0.309917    7.066116  0.057851    3112       3  \n",
      "997  0.445312   76.273438  0.054688     313       4  \n",
      "998  0.089552  -19.393035  0.203980    3905      12  \n",
      "999  0.200000  -30.836364  0.309091    1233       1  \n",
      "\n",
      "[1000 rows x 12 columns]\n"
     ]
    }
   ],
   "source": [
    "print(test_data)"
   ]
  },
  {
   "cell_type": "code",
   "execution_count": 18,
   "id": "cce8934c",
   "metadata": {
    "pycharm": {
     "name": "#%%\n"
    }
   },
   "outputs": [
    {
     "name": "stdout",
     "output_type": "stream",
     "text": [
      "Test Accuracy: 0.903\n",
      "Test F1: 0.8193668528864058\n"
     ]
    }
   ],
   "source": [
    "# Test saved model\n",
    "y_pred = final_model.predict(test_data.drop([\"label\"], axis=1)).tolist()\n",
    "print(\"Test Accuracy:\", metrics.accuracy_score(test_data[\"label\"], y_pred))\n",
    "print(\"Test F1:\", metrics.f1_score(test_data[\"label\"], y_pred))"
   ]
  },
  {
   "cell_type": "code",
   "execution_count": 20,
   "id": "669321d0",
   "metadata": {},
   "outputs": [
    {
     "name": "stdout",
     "output_type": "stream",
     "text": [
      "[0, 1, 0, 0, 1, 1, 0, 0, 1, 1, 1, 0, 0, 0, 0, 0, 0, 1, 1, 0, 0, 0, 0, 0, 0, 1, 0, 0, 1, 0, 0, 0, 1, 0, 1, 0, 0, 0, 0, 0, 0, 0, 1, 1, 0, 0, 1, 0, 1, 0, 0, 0, 1, 0, 0, 0, 0, 0, 0, 0, 1, 0, 1, 1, 0, 1, 1, 0, 0, 0, 0, 0, 0, 0, 0, 1, 0, 0, 0, 0, 0, 0, 0, 0, 0, 1, 1, 1, 0, 0, 1, 0, 0, 0, 1, 0, 0, 0, 0, 0, 0, 0, 0, 0, 0, 0, 1, 0, 1, 1, 0, 0, 0, 0, 0, 1, 0, 1, 1, 0, 0, 0, 1, 0, 0, 0, 1, 0, 0, 0, 1, 0, 1, 1, 0, 0, 0, 1, 0, 1, 0, 1, 1, 0, 0, 1, 0, 1, 1, 1, 0, 0, 0, 1, 0, 0, 0, 0, 0, 0, 1, 0, 0, 0, 0, 0, 1, 1, 0, 0, 0, 0, 0, 0, 0, 0, 0, 0, 1, 0, 0, 0, 0, 1, 0, 0, 0, 0, 0, 1, 1, 0, 0, 0, 1, 0, 0, 1, 1, 0, 0, 1, 0, 1, 0, 0, 0, 0, 0, 0, 1, 1, 0, 0, 0, 0, 0, 1, 0, 0, 0, 0, 0, 1, 0, 0, 0, 0, 1, 1, 1, 0, 0, 0, 0, 0, 1, 1, 0, 1, 1, 1, 1, 0, 0, 0, 1, 0, 0, 0, 0, 0, 0, 0, 0, 0, 0, 0, 0, 1, 0, 1, 0, 1, 0, 0, 1, 0, 0, 0, 0, 0, 0, 1, 0, 0, 1, 1, 0, 1, 0, 1, 0, 0, 0, 0, 0, 0, 0, 0, 1, 0, 0, 0, 0, 0, 0, 0, 1, 1, 0, 0, 0, 0, 0, 0, 0, 1, 0, 0, 0, 0, 0, 1, 0, 1, 0, 1, 0, 0, 1, 0, 0, 0, 0, 0, 0, 1, 0, 0, 0, 0, 0, 1, 1, 0, 0, 0, 0, 0, 0, 0, 0, 0, 0, 1, 0, 0, 0, 0, 0, 0, 1, 0, 0, 1, 0, 0, 0, 0, 0, 0, 0, 0, 0, 0, 0, 0, 1, 0, 0, 1, 0, 1, 0, 0, 0, 0, 1, 0, 0, 0, 0, 0, 0, 0, 1, 0, 0, 0, 1, 0, 0, 1, 0, 0, 0, 1, 1, 0, 0, 0, 0, 0, 0, 0, 0, 1, 0, 0, 0, 0, 1, 0, 0, 0, 0, 1, 0, 0, 0, 0, 0, 0, 0, 0, 0, 0, 0, 0, 1, 1, 1, 0, 0, 0, 0, 0, 0, 0, 0, 0, 0, 0, 0, 0, 1, 0, 0, 0, 0, 1, 0, 1, 0, 0, 0, 0, 0, 0, 0, 1, 0, 0, 0, 0, 0, 1, 0, 0, 0, 1, 0, 0, 1, 0, 0, 0, 0, 1, 0, 1, 1, 1, 0, 1, 0, 1, 0, 0, 0, 0, 0, 0, 1, 0, 1, 0, 0, 0, 1, 1, 1, 0, 0, 0, 1, 0, 0, 0, 0, 1, 0, 0, 0, 1, 0, 1, 0, 0, 0, 1, 0, 1, 1, 0, 0, 0, 1, 0, 0, 0, 1, 0, 0, 0, 0, 0, 1, 0, 0, 0, 0, 1, 1, 0, 0, 0, 1, 1, 0, 0, 0, 0, 1, 0, 0, 0, 1, 1, 0, 1, 1, 1, 1, 0, 0, 0, 0, 1, 0, 0, 0, 0, 0, 1, 0, 0, 0, 0, 0, 0, 0, 0, 1, 0, 0, 1, 0, 1, 0, 0, 0, 0, 0, 0, 0, 0, 0, 1, 0, 0, 0, 0, 0, 1, 0, 1, 0, 0, 1, 0, 1, 0, 0, 0, 0, 1, 0, 1, 0, 0, 0, 0, 1, 0, 0, 1, 0, 1, 1, 1, 1, 0, 0, 0, 1, 1, 0, 0, 1, 1, 0, 0, 0, 1, 0, 0, 0, 0, 0, 1, 1, 0, 0, 0, 0, 1, 0, 0, 0, 1, 0, 0, 0, 1, 0, 0, 0, 0, 0, 0, 0, 0, 0, 0, 0, 0, 0, 1, 0, 0, 0, 1, 1, 1, 0, 0, 0, 0, 1, 0, 0, 0, 0, 0, 0, 0, 0, 1, 0, 1, 0, 0, 0, 1, 0, 0, 1, 1, 0, 1, 0, 0, 0, 1, 0, 0, 0, 1, 1, 1, 0, 0, 0, 0, 0, 1, 0, 0, 0, 0, 0, 0, 1, 0, 0, 1, 1, 0, 0, 0, 0, 0, 0, 0, 1, 0, 1, 1, 0, 0, 0, 0, 0, 0, 1, 1, 0, 0, 0, 0, 0, 0, 0, 0, 0, 1, 0, 0, 1, 0, 0, 0, 0, 1, 0, 0, 1, 0, 0, 0, 1, 1, 0, 0, 0, 1, 0, 0, 0, 0, 1, 1, 1, 1, 0, 0, 0, 0, 0, 0, 0, 0, 1, 0, 1, 0, 0, 0, 0, 1, 1, 1, 1, 0, 0, 0, 0, 0, 0, 1, 0, 0, 0, 0, 0, 0, 0, 0, 1, 0, 0, 0, 0, 0, 1, 0, 0, 0, 0, 1, 0, 1, 1, 0, 0, 1, 1, 0, 1, 0, 1, 1, 0, 0, 0, 0, 0, 0, 0, 0, 1, 0, 1, 0, 0, 1, 0, 0, 0, 0, 0, 0, 0, 0, 0, 0, 0, 0, 0, 0, 0, 0, 0, 0, 0, 0, 0, 1, 0, 0, 0, 1, 0, 0, 0, 0, 0, 0, 0, 0, 0, 1, 0, 0, 0, 1, 0, 0, 0, 0, 1, 0, 0, 0, 0, 0, 1, 0, 1, 0, 0, 0, 0, 0, 0, 0, 0, 0, 0, 0, 0, 0, 0, 0, 0, 0, 0, 1, 0, 0, 0, 0, 0, 0, 1, 0, 0, 0, 0, 0, 0, 0, 0, 0, 0, 1, 1, 0, 0, 0, 1, 0, 1, 0, 1, 0, 0, 1, 0, 0, 0, 1, 0, 0, 0, 1, 0, 0, 1, 0, 0, 1, 1, 0, 0, 1, 0, 1, 0, 0, 0, 1, 0, 1, 0, 1, 0, 0]\n"
     ]
    }
   ],
   "source": [
    "print(y_pred)\n",
    "\n",
    "# only return y_pred"
   ]
  },
  {
   "cell_type": "code",
   "execution_count": null,
   "id": "0af25e0e",
   "metadata": {},
   "outputs": [],
   "source": []
  }
 ],
 "metadata": {
  "kernelspec": {
   "display_name": "Python 3 (ipykernel)",
   "language": "python",
   "name": "python3"
  },
  "language_info": {
   "codemirror_mode": {
    "name": "ipython",
    "version": 3
   },
   "file_extension": ".py",
   "mimetype": "text/x-python",
   "name": "python",
   "nbconvert_exporter": "python",
   "pygments_lexer": "ipython3",
   "version": "3.10.6"
  }
 },
 "nbformat": 4,
 "nbformat_minor": 5
}
